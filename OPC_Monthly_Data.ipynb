{
  "nbformat": 4,
  "nbformat_minor": 0,
  "metadata": {
    "colab": {
      "name": "OPC Monthly Data.ipynb",
      "provenance": []
    },
    "kernelspec": {
      "name": "python3",
      "display_name": "Python 3"
    },
    "language_info": {
      "name": "python"
    }
  },
  "cells": [
    {
      "cell_type": "markdown",
      "source": [
        "# **OPC Monthly Data**"
      ],
      "metadata": {
        "id": "b8IGfhM8W0y1"
      }
    },
    {
      "cell_type": "markdown",
      "source": [
        "*1. Select information from SQL server*\n",
        "\n",
        "*2. Download CSV data from SQL server*\n",
        "\n",
        "*3. Upload CSV data here*\n",
        "\n"
      ],
      "metadata": {
        "id": "l7yhQMeo00Zz"
      }
    },
    {
      "cell_type": "markdown",
      "source": [
        "*- Press ctrl+f9 to run all data. Make sure current and the name of the file is accurate -*"
      ],
      "metadata": {
        "id": "GtWsFCrrW5s7"
      }
    },
    {
      "cell_type": "markdown",
      "source": [
        "**List of current team members**"
      ],
      "metadata": {
        "id": "T2QGzAtw6PyU"
      }
    },
    {
      "cell_type": "code",
      "execution_count": null,
      "metadata": {
        "id": "F1AqjqYI2YUP"
      },
      "outputs": [],
      "source": [
        "current_team = ['Lara Crisp', 'Shianne Elliott', 'Conan Cecconie', 'Jonathan Reale', 'Jacob Friedman', 'Taylor Keyes', 'Beau Thomas']"
      ]
    },
    {
      "cell_type": "markdown",
      "source": [
        "**The name of the uploaded file should EXACTLY match the one below**"
      ],
      "metadata": {
        "id": "WMZxIDE16crz"
      }
    },
    {
      "cell_type": "code",
      "source": [
        "file_name = 'Program Ledger By Personnel.csv'"
      ],
      "metadata": {
        "id": "QUZGglHP64YC"
      },
      "execution_count": null,
      "outputs": []
    },
    {
      "cell_type": "markdown",
      "source": [
        "**The following cell will ask you for a month**"
      ],
      "metadata": {
        "id": "W_3Tp0X4Xf2T"
      }
    },
    {
      "cell_type": "code",
      "source": [
        "#@title\n",
        "import pandas as pd\n",
        "import numpy as np\n",
        "import datetime\n",
        "\n",
        "BGV = pd.read_csv(file_name)\n",
        "BGV['TourDate1'] = pd.to_datetime(BGV['TourDate1'])\n",
        "BGV['TourMonth'] = BGV['TourDate1'].dt.strftime('%Y-%m')\n",
        "print('Please enter month as \"yyyy-mm\"')\n",
        "\n",
        "valid=False\n",
        "while valid == False:\n",
        "  date = input('Month: ')\n",
        "  if str(date) in np.sort(BGV['TourMonth'].astype(str).unique()):\n",
        "    print('Success!')\n",
        "    valid=True\n",
        "  else:\n",
        "    print('Error: This was either typed incorrectly or the month is not in the uploaded file')\n",
        "\n",
        "BGV = BGV.loc[BGV['TourMonth'] == date]"
      ],
      "metadata": {
        "id": "Svc3nom0Ol5L",
        "cellView": "form"
      },
      "execution_count": null,
      "outputs": []
    },
    {
      "cell_type": "code",
      "source": [
        "#@title\n",
        "import matplotlib.pyplot as plt\n",
        "\n",
        "BGV.drop_duplicates(subset=['PersonnelNameTitle', 'TourID2'], inplace=True)\n",
        "\n",
        "opc_team = pd.DataFrame()\n",
        "for individual in range(len(current_team)):\n",
        "  opc_team = opc_team.append(BGV.loc[BGV['PersonnelNameTitle'] == str(current_team[individual])+': Tour Booker'])\n",
        "\n",
        "BGV = BGV.sort_values('TourDate1')\n",
        "start_date = BGV['TourDate1'].iat[0]\n",
        "end_date = BGV['TourDate1'].iat[-1]\n",
        "daterange = pd.date_range(start = start_date, end = end_date, freq='d')\n",
        "\n",
        "opc_team_showed = opc_team.loc[opc_team['TourStatus2'] == 'Showed']"
      ],
      "metadata": {
        "id": "5yDv9wPy6b9V",
        "cellView": "form"
      },
      "execution_count": null,
      "outputs": []
    },
    {
      "cell_type": "markdown",
      "source": [
        "## **Looking at Numbers**"
      ],
      "metadata": {
        "id": "1T6EBHHPVogN"
      }
    },
    {
      "cell_type": "markdown",
      "source": [
        "**Total Tour Count**"
      ],
      "metadata": {
        "id": "NKrTlRT5WErI"
      }
    },
    {
      "cell_type": "code",
      "source": [
        "#@title\n",
        "for individual in range(len(current_team)):\n",
        "    name = current_team[individual]\n",
        "    df = opc_team_showed.loc[opc_team['PersonnelNameTitle'] == name + ': Tour Booker']\n",
        "    print(name + ': ' + str(df.shape[0]) + ' tours')"
      ],
      "metadata": {
        "id": "o0B1BhFwrOqj",
        "cellView": "form"
      },
      "execution_count": null,
      "outputs": []
    },
    {
      "cell_type": "markdown",
      "source": [
        "**Shown Rate**"
      ],
      "metadata": {
        "id": "BaMrpC5SWK8u"
      }
    },
    {
      "cell_type": "code",
      "source": [
        "#@title\n",
        "for individual in range(len(current_team)):\n",
        "    name = current_team[individual]\n",
        "    if opc_team.loc[opc_team['PersonnelNameTitle'] == name + ': Tour Booker'].shape[0] > 0:\n",
        "      show_percent = opc_team_showed.loc[opc_team['PersonnelNameTitle'] == name + ': Tour Booker'].shape[0] / opc_team.loc[opc_team['PersonnelNameTitle'] == name + ': Tour Booker'].shape[0]\n",
        "      print('{}: {:.1f}% '.format(name, show_percent*100))\n",
        "    else:\n",
        "      print('{} did not have any tours'.format(name))"
      ],
      "metadata": {
        "id": "NMgn7clwSpTK",
        "cellView": "form"
      },
      "execution_count": null,
      "outputs": []
    },
    {
      "cell_type": "markdown",
      "source": [
        "**Purchase Rate**"
      ],
      "metadata": {
        "id": "2u6teI3WWPDQ"
      }
    },
    {
      "cell_type": "code",
      "source": [
        "#@title\n",
        "for individual in range(len(current_team)):\n",
        "    name = current_team[individual]\n",
        "    if opc_team.loc[opc_team['PersonnelNameTitle'] == name + ': Tour Booker'].shape[0] > 0:\n",
        "      percent_purchase = opc_team_showed.loc[(opc_team['PersonnelNameTitle'] == name + ': Tour Booker') & \n",
        "        (opc_team['TourResult2'] == 'Sale') & (opc_team['ContractStatus1'] != 'Canceled\\r\\nRescind')].shape[0] / opc_team.loc[opc_team['PersonnelNameTitle'] == name + ': Tour Booker'].shape[0]\n",
        "      print('{}: {:.1f}% '.format(name, percent_purchase*100))\n",
        "    else:\n",
        "      print('{} did not have any tours'.format(name))"
      ],
      "metadata": {
        "id": "63MwT9tFUtco",
        "cellView": "form"
      },
      "execution_count": null,
      "outputs": []
    },
    {
      "cell_type": "markdown",
      "source": [
        "## **Looking at Graphs**"
      ],
      "metadata": {
        "id": "pNkMcBGmWk7g"
      }
    },
    {
      "cell_type": "markdown",
      "source": [
        "**Tour Counts and 7 Day Average**"
      ],
      "metadata": {
        "id": "iHalyITC1tki"
      }
    },
    {
      "cell_type": "code",
      "source": [
        "#@title\n",
        "from matplotlib.ticker import MaxNLocator\n",
        "\n",
        "for individual in range(len(current_team)):\n",
        "  name = current_team[individual]\n",
        "  if name+': Tour Booker' in opc_team['PersonnelNameTitle'].unique():\n",
        "    fig, ax = plt.subplots(figsize=(15,4))\n",
        "    \n",
        "    individual_showed = opc_team_showed.loc[opc_team_showed['PersonnelNameTitle'] == name+': Tour Booker']\n",
        "\n",
        "    individual_daterange = pd.DataFrame(index=daterange)\n",
        "    individual_daterange['Tour Count'] = individual_showed['TourDate1'].value_counts()\n",
        "    individual_daterange['Tour Count'] = individual_daterange['Tour Count'].fillna(0)\n",
        "    individual_daterange['Day'] = individual_daterange.index.strftime('%d')\n",
        "\n",
        "    individual_daterange.plot('Day', 'Tour Count', kind='bar', color='lightskyblue', alpha=0.75, ax=ax, zorder=3)\n",
        "    individual_daterange.rolling(7).mean().plot('Day', 'Tour Count', linewidth=3, color='#1f77b4', ax=ax, zorder=5).grid(axis='y', zorder=0, alpha=0.5)\n",
        "\n",
        "    average = individual_daterange['Tour Count'].fillna(0).mean()\n",
        "    plt.axhline(y=average, color='lightcoral', zorder=4)\n",
        "    ax.yaxis.set_major_locator(MaxNLocator(integer=True))\n",
        "\n",
        "    plt.xlabel('')\n",
        "    plt.xticks(rotation=0)\n",
        "    plt.title('   '+str(name), weight='bold', loc='left', fontsize=12)\n",
        "    plt.title(str(date)+' Tour Count Average   ', loc='right', fontsize=12)\n",
        "    plt.legend(['7 Day Average', 'Overall Average: '+str(round(average,2)), 'Daily Tour Count'])\n",
        "  else:\n",
        "    print('Cannot find data for ' + name)"
      ],
      "metadata": {
        "id": "hjWmT8jkh8uf",
        "cellView": "form"
      },
      "execution_count": null,
      "outputs": []
    },
    {
      "cell_type": "markdown",
      "source": [
        "**Individual Tour Counts**"
      ],
      "metadata": {
        "id": "rQIrYnD8liqK"
      }
    },
    {
      "cell_type": "code",
      "source": [
        "#@title\n",
        "values = []\n",
        "team = []\n",
        "for name in current_team:\n",
        "  count = opc_team_showed.loc[opc_team['PersonnelNameTitle'] == name + ': Tour Booker'].shape[0]\n",
        "  if count > 0:\n",
        "    values.append(count)\n",
        "    team.append(name)\n",
        "  else:\n",
        "    print('Cannot find data for '+name)\n",
        "\n",
        "df = pd.DataFrame()\n",
        "df['Team'] = team\n",
        "df['Count'] = values\n",
        "\n",
        "df.plot('Team', 'Count', kind='bar', figsize = (18, 8), zorder=3).grid(axis='y', zorder=0, alpha=0.75)\n",
        "\n",
        "average = opc_team_showed.shape[0] / len(team)\n",
        "plt.axhline(y=average, color='lightcoral', zorder=4)\n",
        "plt.legend(['Overall Average: '+str(round(average,2)), 'Tour Count'])\n",
        "\n",
        "function = -0.05*max(values)\n",
        "\n",
        "for i in range(len(team)):\n",
        "  plt.text(i, values[i]+function, str(values[i]), ha = 'center', fontsize=18, color='white', zorder=5)\n",
        "\n",
        "plt.xticks(fontsize=12, rotation=30)\n",
        "plt.xlabel('')\n",
        "plt.yticks(fontsize=12)\n",
        "plt.title('   OPC Team', weight='bold', fontsize=18, loc='left')\n",
        "plt.title(str(date)+' Individual Tour Counts   ', fontsize=18, loc='right')"
      ],
      "metadata": {
        "id": "hk5AkqMArRft",
        "cellView": "form"
      },
      "execution_count": null,
      "outputs": []
    }
  ]
}